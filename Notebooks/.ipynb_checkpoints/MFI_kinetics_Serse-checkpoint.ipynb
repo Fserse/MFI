{
 "cells": [
  {
   "cell_type": "markdown",
   "metadata": {},
   "source": [
    "# Kinetics with Metadynamics + MFI\n",
    "\n",
    "Case study pvc dimer betascission continue description \n",
    "\n",
    "    1. reaction in vacuum\n",
    "        I)\n",
    "        II)\n",
    "    2. reaction in water solvent\n",
    "        I)\n",
    "        II)\n",
    "    3. reaction in \"bulk\" (1,2-Dichloroethane)\n",
    "        I)\n",
    "        II)"
   ]
  },
  {
   "cell_type": "code",
   "execution_count": 7,
   "metadata": {},
   "outputs": [],
   "source": [
    "import os\n",
    "import numpy as np\n",
    "import matplotlib.pyplot as plt\n",
    "os.chdir(\"C:/Users/Asus/Desktop/PhD_Thesis/MFI\")\n",
    "from pyMFI import MFI\n",
    "simdata_path = (\"C:/Users/Asus/Desktop/PhD_Thesis/MFI/pvc_water\")"
   ]
  },
  {
   "cell_type": "code",
   "execution_count": 8,
   "metadata": {},
   "outputs": [
    {
     "name": "stdout",
     "output_type": "stream",
     "text": [
      "C:\\Users\\Asus\\Desktop\\PhD_Thesis\\MFI\n"
     ]
    }
   ],
   "source": [
    "cwd = os.getcwd()\n",
    "print(cwd)"
   ]
  },
  {
   "cell_type": "markdown",
   "metadata": {},
   "source": [
    "# 1. Reaction in vacuum"
   ]
  },
  {
   "cell_type": "code",
   "execution_count": null,
   "metadata": {},
   "outputs": [],
   "source": []
  }
 ],
 "metadata": {
  "kernelspec": {
   "display_name": "Python 3",
   "language": "python",
   "name": "python3"
  },
  "language_info": {
   "codemirror_mode": {
    "name": "ipython",
    "version": 3
   },
   "file_extension": ".py",
   "mimetype": "text/x-python",
   "name": "python",
   "nbconvert_exporter": "python",
   "pygments_lexer": "ipython3",
   "version": "3.8.5"
  }
 },
 "nbformat": 4,
 "nbformat_minor": 4
}
