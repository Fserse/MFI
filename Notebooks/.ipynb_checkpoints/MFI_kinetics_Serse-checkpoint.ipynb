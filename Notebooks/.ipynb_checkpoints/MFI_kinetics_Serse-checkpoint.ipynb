{
 "cells": [
  {
   "cell_type": "markdown",
   "metadata": {},
   "source": [
    "# Kinetics with Metadynamics + MFI\n",
    "\n",
    "Case study pvc dimer betascission continue description \n",
    "\n",
    "    1. reaction in vacuum\n",
    "        I)\n",
    "        II)\n",
    "    2. reaction in water solvent\n",
    "        I)\n",
    "        II)\n",
    "    3. reaction in \"bulk\" (1,2-Dichloroethane)\n",
    "        I)\n",
    "        II)"
   ]
  },
  {
   "cell_type": "code",
   "execution_count": 37,
   "metadata": {},
   "outputs": [],
   "source": [
    "import os\n",
    "import numpy as np\n",
    "import matplotlib.pyplot as plt\n",
    "os.chdir(\"C:/Users/Asus/Desktop/PhD_Thesis/MFI\")\n",
    "from pyMFI import MFI\n",
    "simdata_path = (\"C:/Users/Asus/Desktop/PhD_Thesis/MFI/pvc_water/\")"
   ]
  },
  {
   "cell_type": "code",
   "execution_count": 38,
   "metadata": {},
   "outputs": [
    {
     "name": "stdout",
     "output_type": "stream",
     "text": [
      "C:\\Users\\Asus\\Desktop\\PhD_Thesis\\MFI\n"
     ]
    }
   ],
   "source": [
    "cwd = os.getcwd()\n",
    "print(cwd)"
   ]
  },
  {
   "cell_type": "markdown",
   "metadata": {},
   "source": [
    "# 1. Reaction in vacuum"
   ]
  },
  {
   "cell_type": "code",
   "execution_count": 48,
   "metadata": {},
   "outputs": [
    {
     "name": "stdout",
     "output_type": "stream",
     "text": [
      "C:/Users/Asus/Desktop/PhD_Thesis/MFI/pvc_water/300K/\n"
     ]
    }
   ],
   "source": [
    "# T = 300 K\n",
    "\n",
    "os.chdir(\"C:/Users/Asus/Desktop/PhD_Thesis/MFI/pvc_water/300K\")\n",
    "simdata_path_300 = (str(simdata_path)+\"300K/\")\n",
    "print(simdata_path_300)\n",
    "\n",
    "X = np.linspace(0, 12, 200)\n",
    "Y = np.linspace(-np.pi, np.pi, 200)\n",
    "\n",
    "dx = np.abs( X[0] - X[1] )\n",
    "dy = np.abs( Y[0] - Y[1] )\n",
    "\n",
    "forces_all = []\n",
    "master = []\n",
    "all_hills= []\n",
    "error_history = []\n",
    "Ftot_master = []\n",
    "master_patch = [[np.zeros((200,200)), np.zeros((200,200)), np.zeros((200,200)), np.zeros((200,200)), np.zeros((200,200)), np.zeros((200,200))]]\n",
    "FP = np.zeros((200,200))\n",
    "ofe_history_patch = [0]\n",
    "time_history_patch = [0]\n",
    "\n",
    "# Integrate results from wall potentials restraint (focus on the region of interest)\n",
    "# Read the HILLS file\n",
    "\n",
    "#for simulation in np.arange(0,3):\n",
    "\n",
    "#    HILLS=MFI.load_HILLS_2D(hills_name=str(simdata_path_300)+\"HILLS_WALL_\"+str(simulation))\n",
    "\n",
    "    ##Read the Colvar File\n",
    "#    [position_x, position_y] = MFI.load_position_2D(position_name=str(simdata_path_300)+\"position_wall_\"+str(simulation))\n",
    "\n",
    "\n",
    "    ## Compute the time-independent mean force\n",
    "#    [X, Y, Ftot_den, Ftot_x, Ftot_y, ofe, ofe_history ,Ftot_den2, ofv_x, ofv_y] = MFI.MFI_2D(HILLS=HILLS, position_x=position_x, position_y=position_y, bw=0.2, kT=2.49, min_grid=np.array((0, -np.pi)), max_grid=np.array((12, np.pi)), nbins=np.array((200, 200)), log_pace=10, error_pace=100, base_terms=0, window_corners=[3.9, 5], WellTempered=0, nhills=-1, periodic=0, FES_cutoff=120, FFT_integration=0, hp_centre_x=0.0, hp_centre_y=0.0, hp_kappa_x=0, hp_kappa_y=0, lw_centre_x=3.4, lw_centre_y=0.0, lw_kappa_x=2.0, lw_kappa_y=0, uw_centre_x=5.0, uw_centre_y=0.0, uw_kappa_x=2.0, uw_kappa_y=0)\n",
    "\n",
    "#    master.append([Ftot_den, Ftot_den2, Ftot_x, Ftot_y, ofv_x, ofv_y])\n",
    "\n",
    "#    forces_all.append([X, Y, Ftot_den, Ftot_x, Ftot_y])\n"
   ]
  },
  {
   "cell_type": "code",
   "execution_count": 47,
   "metadata": {},
   "outputs": [
    {
     "name": "stdout",
     "output_type": "stream",
     "text": [
      "I will integrate the FES every  100  steps. This may take a while.\n",
      "Total no. of Gaussians analysed: 1111\n",
      "|100/1111|==> Average Mean Force Error: 14.403329219346142\n",
      "|200/1111|==> Average Mean Force Error: 17.515563980478067\n",
      "|300/1111|==> Average Mean Force Error: 19.669211485925416\n",
      "|400/1111|==> Average Mean Force Error: 21.64753090956952\n",
      "|500/1111|==> Average Mean Force Error: 24.234417603235965\n",
      "|600/1111|==> Average Mean Force Error: 26.505729682637075\n",
      "|700/1111|==> Average Mean Force Error: 23.159078261944597\n",
      "|800/1111|==> Average Mean Force Error: 21.450099316668304\n",
      "|900/1111|==> Average Mean Force Error: 21.00109116312584\n",
      "|1000/1111|==> Average Mean Force Error: 20.62479753342155\n",
      "|1100/1111|==> Average Mean Force Error: 20.03675606139468\n",
      "I will integrate the FES every  100  steps. This may take a while.\n",
      "Total no. of Gaussians analysed: 1111\n",
      "|100/1111|==> Average Mean Force Error: 14.613933434773184\n",
      "|200/1111|==> Average Mean Force Error: 17.64484013358322\n",
      "|300/1111|==> Average Mean Force Error: 20.027848539300173\n",
      "|400/1111|==> Average Mean Force Error: 22.219882942663155\n",
      "|500/1111|==> Average Mean Force Error: 25.099077279359612\n",
      "|600/1111|==> Average Mean Force Error: 26.853913957993434\n",
      "|700/1111|==> Average Mean Force Error: 23.14226153347431\n",
      "|800/1111|==> Average Mean Force Error: 21.99882766759653\n",
      "|900/1111|==> Average Mean Force Error: 20.595820827198253\n",
      "|1000/1111|==> Average Mean Force Error: 19.417988256716313\n",
      "|1100/1111|==> Average Mean Force Error: 18.946037295522874\n",
      "I will integrate the FES every  100  steps. This may take a while.\n",
      "Total no. of Gaussians analysed: 1111\n",
      "|100/1111|==> Average Mean Force Error: 14.353210054033504\n",
      "|200/1111|==> Average Mean Force Error: 17.628699044724296\n",
      "|300/1111|==> Average Mean Force Error: 20.062390064761328\n",
      "|400/1111|==> Average Mean Force Error: 22.192840501184726\n",
      "|500/1111|==> Average Mean Force Error: 25.25598180522703\n",
      "|600/1111|==> Average Mean Force Error: 22.549267092818813\n",
      "|700/1111|==> Average Mean Force Error: 22.549267092818813\n",
      "|800/1111|==> Average Mean Force Error: 21.461469301950398\n",
      "|900/1111|==> Average Mean Force Error: 21.452421650488496\n",
      "|1000/1111|==> Average Mean Force Error: 21.151139991737153\n",
      "|1100/1111|==> Average Mean Force Error: 20.37738258412401\n",
      "I will integrate the FES every  100  steps. This may take a while.\n",
      "Total no. of Gaussians analysed: 1111\n",
      "|100/1111|==> Average Mean Force Error: 14.915182620252574\n",
      "|200/1111|==> Average Mean Force Error: 18.679379555420113\n",
      "|300/1111|==> Average Mean Force Error: 20.365166943200965\n",
      "|400/1111|==> Average Mean Force Error: 22.325721997364166\n",
      "|500/1111|==> Average Mean Force Error: 25.403285987884434\n",
      "|600/1111|==> Average Mean Force Error: 28.94893378046498\n",
      "|700/1111|==> Average Mean Force Error: 24.504980145753752\n",
      "|800/1111|==> Average Mean Force Error: 21.94723014955444\n",
      "|900/1111|==> Average Mean Force Error: 21.568835096552586\n",
      "|1000/1111|==> Average Mean Force Error: 21.55416726136138\n",
      "|1100/1111|==> Average Mean Force Error: 21.55416726136138\n",
      "I will integrate the FES every  100  steps. This may take a while.\n",
      "Total no. of Gaussians analysed: 1111\n",
      "|100/1111|==> Average Mean Force Error: 14.718109159243399\n",
      "|200/1111|==> Average Mean Force Error: 17.827956437861452\n",
      "|300/1111|==> Average Mean Force Error: 19.92188484568837\n",
      "|400/1111|==> Average Mean Force Error: 22.17710265469818\n",
      "|500/1111|==> Average Mean Force Error: 25.0037531566319\n",
      "|600/1111|==> Average Mean Force Error: 27.923753851549854\n",
      "|700/1111|==> Average Mean Force Error: 29.279340257645604\n",
      "|800/1111|==> Average Mean Force Error: 22.63247828394709\n",
      "|900/1111|==> Average Mean Force Error: 21.132676285949042\n",
      "|1000/1111|==> Average Mean Force Error: 20.990939600360267\n",
      "|1100/1111|==> Average Mean Force Error: 20.676305647808558\n",
      "I will integrate the FES every  100  steps. This may take a while.\n",
      "Total no. of Gaussians analysed: 1111\n",
      "|100/1111|==> Average Mean Force Error: 14.49434632760231\n",
      "|200/1111|==> Average Mean Force Error: 18.026330362912613\n",
      "|300/1111|==> Average Mean Force Error: 19.855082713132983\n",
      "|400/1111|==> Average Mean Force Error: 22.06577537937764\n",
      "|500/1111|==> Average Mean Force Error: 24.994233322714223\n",
      "|600/1111|==> Average Mean Force Error: 27.470289738338604\n",
      "|700/1111|==> Average Mean Force Error: 28.560167041672717\n",
      "|800/1111|==> Average Mean Force Error: 23.484401311850753\n",
      "|900/1111|==> Average Mean Force Error: 21.503888854963552\n",
      "|1000/1111|==> Average Mean Force Error: 20.77281664313505\n",
      "|1100/1111|==> Average Mean Force Error: 20.74791843780439\n",
      "I will integrate the FES every  100  steps. This may take a while.\n",
      "Total no. of Gaussians analysed: 1111\n",
      "|100/1111|==> Average Mean Force Error: 14.53858129265384\n",
      "|200/1111|==> Average Mean Force Error: 17.964498195220653\n",
      "|300/1111|==> Average Mean Force Error: 20.48740751272184\n",
      "|400/1111|==> Average Mean Force Error: 22.57196737226663\n",
      "|500/1111|==> Average Mean Force Error: 25.247722512357978\n",
      "|600/1111|==> Average Mean Force Error: 28.06622865553769\n",
      "|700/1111|==> Average Mean Force Error: 28.873276702780434\n",
      "|800/1111|==> Average Mean Force Error: 22.890252045030074\n",
      "|900/1111|==> Average Mean Force Error: 22.469532337152426\n",
      "|1000/1111|==> Average Mean Force Error: 21.74906934837225\n",
      "|1100/1111|==> Average Mean Force Error: 21.108690565747068\n",
      "I will integrate the FES every  100  steps. This may take a while.\n",
      "Total no. of Gaussians analysed: 1111\n",
      "|100/1111|==> Average Mean Force Error: 14.53858129265384\n",
      "|200/1111|==> Average Mean Force Error: 17.964498195220653\n",
      "|300/1111|==> Average Mean Force Error: 20.48740751272184\n",
      "|400/1111|==> Average Mean Force Error: 22.57196737226663\n",
      "|500/1111|==> Average Mean Force Error: 25.247722512357978\n",
      "|600/1111|==> Average Mean Force Error: 28.06622865553769\n",
      "|700/1111|==> Average Mean Force Error: 28.873276702780434\n",
      "|800/1111|==> Average Mean Force Error: 22.890252045030074\n",
      "|900/1111|==> Average Mean Force Error: 22.469532337152426\n",
      "|1000/1111|==> Average Mean Force Error: 21.74906934837225\n",
      "|1100/1111|==> Average Mean Force Error: 21.108690565747068\n",
      "I will integrate the FES every  100  steps. This may take a while.\n",
      "Total no. of Gaussians analysed: 1111\n",
      "|100/1111|==> Average Mean Force Error: 14.20932665475565\n",
      "|200/1111|==> Average Mean Force Error: 18.045491751293902\n",
      "|300/1111|==> Average Mean Force Error: 20.419970135128064\n",
      "|400/1111|==> Average Mean Force Error: 21.93675113497856\n",
      "|500/1111|==> Average Mean Force Error: 25.327077252995647\n",
      "|600/1111|==> Average Mean Force Error: 28.33014650319846\n",
      "|700/1111|==> Average Mean Force Error: 30.151506857012784\n",
      "|800/1111|==> Average Mean Force Error: 27.23355046017251\n",
      "|900/1111|==> Average Mean Force Error: 24.036201315537614\n",
      "|1000/1111|==> Average Mean Force Error: 22.743248860628068\n",
      "|1100/1111|==> Average Mean Force Error: 21.739469601531994\n",
      "I will integrate the FES every  100  steps. This may take a while.\n",
      "Total no. of Gaussians analysed: 1111\n",
      "|100/1111|==> Average Mean Force Error: 14.224609068209142\n",
      "|200/1111|==> Average Mean Force Error: 17.936378918639754\n",
      "|300/1111|==> Average Mean Force Error: 20.32542087699171\n",
      "|400/1111|==> Average Mean Force Error: 22.32848373405855\n",
      "|500/1111|==> Average Mean Force Error: 25.434343527151203\n",
      "|600/1111|==> Average Mean Force Error: 22.84416781676276\n",
      "|700/1111|==> Average Mean Force Error: 22.396904473223614\n",
      "|800/1111|==> Average Mean Force Error: 21.128165335693215\n",
      "|900/1111|==> Average Mean Force Error: 20.637322438536806\n",
      "|1000/1111|==> Average Mean Force Error: 20.056941043147603\n",
      "|1100/1111|==> Average Mean Force Error: 19.522446593169924\n"
     ]
    }
   ],
   "source": [
    "for simulation in np.arange(0,10):\n",
    "\n",
    "    HILLS=MFI.load_HILLS_2D(hills_name=str(simdata_path_300)+\"HILLS_\"+str(simulation))\n",
    "    #print(HILLS)\n",
    "    #plt.plot(HILLS[:,1],HILLS[:,2],'.')\n",
    "    #Read the Colvar File\n",
    "    [position_x, position_y] = MFI.load_position_2D(position_name=str(simdata_path_300)+\"position_\"+str(simulation))\n",
    "    #COMPUTE Mean force and weight of the simulation\n",
    "    [X, Y, Ftot_den, Ftot_x, Ftot_y, ofv, ofe, cutoff, volume_history, ofe_history, time_history, Ftot_den2, ofv_num_x, ofv_num_y] = MFI.MFI_2D(HILLS = HILLS, position_x = position_x, position_y = position_y, bw = 0.2, kT = 2.49, min_grid = np.array((0, -np.pi)), max_grid = np.array((12, np.pi)), nbins = np.array((200,200)), log_pace = 100, error_pace = 100, base_terms=0, window_corners=[], WellTempered = 0, nhills=-1, periodic=0, FES_cutoff=120, FFT_integration=0)\n",
    "\n",
    "\n",
    "\n",
    "    forces_all.append([X, Y, Ftot_den, Ftot_x, Ftot_y])\n",
    "\n",
    "    master.append([Ftot_den, Ftot_den2, Ftot_x, Ftot_y, ofv_num_x, ofv_num_y])\n",
    "\n",
    "    master_patch.append(MFI.patch_2D(master))\n",
    "    \n",
    "    ofe_history_patch += ofe_history\n",
    "    time_history_adj = [element+time_history_patch[-1] for element in time_history]\n",
    "    time_history_patch += time_history_adj\n",
    "\n",
    "\n",
    "    #    [FX,FY,FD,error] = MFI.patch_2D(master)\n",
    "\n",
    "#    error_history.append(sum(sum(error)) / (np.shape(error)[0]*np.shape(error)[1]))\n",
    "\n",
    "#\n"
   ]
  },
  {
   "cell_type": "code",
   "execution_count": 65,
   "metadata": {},
   "outputs": [],
   "source": [
    "from pyMFI import MFI"
   ]
  },
  {
   "cell_type": "code",
   "execution_count": 66,
   "metadata": {},
   "outputs": [
    {
     "ename": "TypeError",
     "evalue": "bootstrap_2D_fes() takes from 4 to 8 positional arguments but 10 were given",
     "output_type": "error",
     "traceback": [
      "\u001b[1;31m---------------------------------------------------------------------------\u001b[0m",
      "\u001b[1;31mTypeError\u001b[0m                                 Traceback (most recent call last)",
      "\u001b[1;32m<ipython-input-66-6490bd6d5534>\u001b[0m in \u001b[0;36m<module>\u001b[1;34m\u001b[0m\n\u001b[0;32m      1\u001b[0m \u001b[1;31m# Bootstrap\u001b[0m\u001b[1;33m\u001b[0m\u001b[1;33m\u001b[0m\u001b[1;33m\u001b[0m\u001b[0m\n\u001b[1;32m----> 2\u001b[1;33m \u001b[1;33m[\u001b[0m\u001b[0mFES_avr\u001b[0m\u001b[1;33m,\u001b[0m \u001b[0mcutoff\u001b[0m\u001b[1;33m,\u001b[0m \u001b[0msd_fes\u001b[0m\u001b[1;33m,\u001b[0m \u001b[0msd_fes_prog\u001b[0m \u001b[1;33m]\u001b[0m \u001b[1;33m=\u001b[0m \u001b[0mMFI\u001b[0m\u001b[1;33m.\u001b[0m\u001b[0mbootstrap_2D_fes\u001b[0m\u001b[1;33m(\u001b[0m\u001b[0mX\u001b[0m\u001b[1;33m,\u001b[0m \u001b[0mY\u001b[0m\u001b[1;33m,\u001b[0m \u001b[0mdx\u001b[0m\u001b[1;33m,\u001b[0m \u001b[0mdy\u001b[0m\u001b[1;33m,\u001b[0m \u001b[0mforces_all\u001b[0m\u001b[1;33m,\u001b[0m \u001b[1;36m100\u001b[0m\u001b[1;33m,\u001b[0m \u001b[1;36m120\u001b[0m\u001b[1;33m,\u001b[0m \u001b[1;36m0\u001b[0m\u001b[1;33m,\u001b[0m \u001b[0mnp\u001b[0m\u001b[1;33m.\u001b[0m\u001b[0marray\u001b[0m\u001b[1;33m(\u001b[0m\u001b[1;33m(\u001b[0m\u001b[1;36m0\u001b[0m\u001b[1;33m,\u001b[0m \u001b[1;33m-\u001b[0m\u001b[0mnp\u001b[0m\u001b[1;33m.\u001b[0m\u001b[0mpi\u001b[0m\u001b[1;33m)\u001b[0m\u001b[1;33m)\u001b[0m\u001b[1;33m,\u001b[0m \u001b[0mnp\u001b[0m\u001b[1;33m.\u001b[0m\u001b[0marray\u001b[0m\u001b[1;33m(\u001b[0m\u001b[1;33m(\u001b[0m\u001b[1;36m12\u001b[0m\u001b[1;33m,\u001b[0m \u001b[0mnp\u001b[0m\u001b[1;33m.\u001b[0m\u001b[0mpi\u001b[0m\u001b[1;33m)\u001b[0m\u001b[1;33m)\u001b[0m \u001b[1;33m)\u001b[0m\u001b[1;33m\u001b[0m\u001b[1;33m\u001b[0m\u001b[0m\n\u001b[0m\u001b[0;32m      3\u001b[0m \u001b[1;33m\u001b[0m\u001b[0m\n\u001b[0;32m      4\u001b[0m \u001b[0mMFI\u001b[0m\u001b[1;33m.\u001b[0m\u001b[0mplot_bootstrap\u001b[0m\u001b[1;33m(\u001b[0m\u001b[0mX\u001b[0m\u001b[1;33m,\u001b[0m \u001b[0mY\u001b[0m\u001b[1;33m,\u001b[0m \u001b[0mFES_avr\u001b[0m\u001b[1;33m,\u001b[0m \u001b[0msd_fes\u001b[0m\u001b[1;33m,\u001b[0m \u001b[0msd_fes_prog\u001b[0m\u001b[1;33m,\u001b[0m \u001b[0mFES_lim\u001b[0m \u001b[1;33m=\u001b[0m \u001b[1;36m120\u001b[0m\u001b[1;33m,\u001b[0m \u001b[0mofe_lim\u001b[0m \u001b[1;33m=\u001b[0m \u001b[1;36m10\u001b[0m\u001b[1;33m)\u001b[0m\u001b[1;33m\u001b[0m\u001b[1;33m\u001b[0m\u001b[0m\n",
      "\u001b[1;31mTypeError\u001b[0m: bootstrap_2D_fes() takes from 4 to 8 positional arguments but 10 were given"
     ]
    }
   ],
   "source": [
    "# Bootstrap\n",
    "[FES_avr, cutoff, sd_fes, sd_fes_prog ] = MFI.bootstrap_2D_fes(X, Y, dx, dy, forces_all, 100, 120, 0, np.array((0, -np.pi)), np.array((12, np.pi)) )\n",
    "\n",
    "MFI.plot_bootstrap(X, Y, FES_avr, sd_fes, sd_fes_prog, FES_lim = 120, ofe_lim = 10)"
   ]
  },
  {
   "cell_type": "code",
   "execution_count": null,
   "metadata": {},
   "outputs": [],
   "source": []
  }
 ],
 "metadata": {
  "kernelspec": {
   "display_name": "Python 3",
   "language": "python",
   "name": "python3"
  },
  "language_info": {
   "codemirror_mode": {
    "name": "ipython",
    "version": 3
   },
   "file_extension": ".py",
   "mimetype": "text/x-python",
   "name": "python",
   "nbconvert_exporter": "python",
   "pygments_lexer": "ipython3",
   "version": "3.8.5"
  }
 },
 "nbformat": 4,
 "nbformat_minor": 4
}
