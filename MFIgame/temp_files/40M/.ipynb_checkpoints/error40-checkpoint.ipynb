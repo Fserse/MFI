{
 "cells": [
  {
   "cell_type": "code",
   "execution_count": 17,
   "metadata": {},
   "outputs": [],
   "source": [
    "import numpy as np\n",
    "import matplotlib.pyplot as plt\n",
    "import pickle\n",
    "import os\n",
    "\n",
    "from matplotlib import rc\n",
    "plt.rcParams.update({ \"text.usetex\": True, \"font.family\": \"serif\", \"font.serif\": [\"computer modern roman\"], \"font.size\": 17})\n",
    "plw = 0.6\n",
    "pcs = 3\n",
    "pms = 3\n",
    "bfillc = [0.9,0.9,0.9]\n",
    "plt.rcParams['axes.linewidth'] = plw\n",
    "plt.rcParams['xtick.top'] = True\n",
    "plt.rcParams['xtick.direction'] = 'in'\n",
    "plt.rcParams['xtick.major.width'] = plw\n",
    "plt.rcParams['xtick.minor.width'] = plw\n",
    "plt.rcParams['xtick.minor.visible'] = True\n",
    "plt.rcParams['xtick.major.size'] = 4.5\n",
    "plt.rcParams['ytick.right'] = True\n",
    "plt.rcParams['ytick.direction'] = 'in'\n",
    "plt.rcParams['ytick.major.width'] = plw\n",
    "plt.rcParams['ytick.minor.width'] = plw\n",
    "plt.rcParams['ytick.minor.visible'] = True\n",
    "plt.rcParams['ytick.major.size'] = 5\n",
    "plt.rcParams[\"figure.figsize\"] = (8,4)\n",
    "\n",
    "times = r\"$\\times$\"\n",
    "pwr_neg = r\"$^{-1}$\"\n",
    "sigma = r\"$\\sigma_w$\"\n",
    "\n",
    "\n",
    "results_path = \"/home/antoniu/Desktop/MFI_git/MFI_master/MFI/results_plot\"\n",
    "path = \"/home/antoniu/Desktop/MFI_git/MFI_master/MFI\"\n",
    "os.chdir(path)\n",
    "\n",
    "from pyMFI import MFI"
   ]
  },
  {
   "cell_type": "code",
   "execution_count": 10,
   "metadata": {},
   "outputs": [
    {
     "name": "stdout",
     "output_type": "stream",
     "text": [
      "|4000/40000|=> Avr OFE: 28.67 *** |8000/40000|=> Avr OFE: 28.88 *** |12000/40000|=> Avr OFE: 28.98 *** |16000/40000|=> Avr OFE: 29.04 *** |20000/40000|=> Avr OFE: 29.11 *** |24000/40000|=> Avr OFE: 29.13 *** |28000/40000|=> Avr OFE: 29.15 *** |32000/40000|=> Avr OFE: 29.17 *** |36000/40000|=> Avr OFE: 29.19 *** |40000/40000|=> Avr OFE: 29.21 *** "
     ]
    }
   ],
   "source": [
    "# #Read the HILLS file\n",
    "HILLS=MFI.load_HILLS_2D(hills_name=\"HILLS40\")\n",
    "\n",
    "# #Read the Colvar File\n",
    "[position_x, position_y] = MFI.load_position_2D(position_name=\"position40\")\n",
    "\n",
    "# #Compute the time-independent mean force\n",
    "results = MFI.MFI_2D(HILLS = HILLS, position_x = position_x, position_y = position_y, bw = 0.1, kT = 2.49, log_pace = 10, error_pace = 500, WellTempered=1, nhills=13000, periodic=1, FES_cutoff=50)\n",
    "[X, Y, Ftot_den, Ftot_x, Ftot_y, ofv, ofe, cutoff, ofv_history, ofe_history, time_history, Ftot_den2, ofv_num_x, ofv_num_y] = results\n",
    "\n",
    "# #integration with the FFT method\n",
    "[X, Y, FES] = MFI.FFT_intg_2D(Ftot_x, Ftot_y)\n"
   ]
  },
  {
   "cell_type": "code",
   "execution_count": 22,
   "metadata": {},
   "outputs": [
    {
     "data": {
      "image/png": "[encoded data removed]",
      "text/plain": [
       "<Figure size 576x288 with 1 Axes>"
      ]
     },
     "metadata": {
      "needs_background": "light"
     },
     "output_type": "display_data"
    }
   ],
   "source": [
    "plt.plot([time / 1000 for time in time_history], ofe_history)\n",
    "plt.ylabel(sigma + ' [kJ / (mol' + times + \"rad)]\")\n",
    "plt.xlabel('Simulation time [ns]')\n",
    "plt.title('Average Standard Deviation of the Mean Force', fontsize=22)\n",
    "# plt.savefig('/home/antoniu/Desktop/Windows/poster_converge.png', dpi=600, bbox_inches='tight')\n",
    "plt.show()"
   ]
  },
  {
   "cell_type": "code",
   "execution_count": 20,
   "metadata": {},
   "outputs": [
    {
     "name": "stdout",
     "output_type": "stream",
     "text": [
      "40000\n",
      "500\n"
     ]
    }
   ],
   "source": [
    "print(len(HILLS))\n",
    "print(len(ofe_history))"
   ]
  }
 ],
 "metadata": {
  "interpreter": {
   "hash": "03ae04260e478434a99f6a85d47b9294450c44a76b572c3ffee886dfa13495b2"
  },
  "kernelspec": {
   "display_name": "Python 3",
   "language": "python",
   "name": "python3"
  },
  "language_info": {
   "codemirror_mode": {
    "name": "ipython",
    "version": 3
   },
   "file_extension": ".py",
   "mimetype": "text/x-python",
   "name": "python",
   "nbconvert_exporter": "python",
   "pygments_lexer": "ipython3",
   "version": "3.8.5"
  }
 },
 "nbformat": 4,
 "nbformat_minor": 2
}
