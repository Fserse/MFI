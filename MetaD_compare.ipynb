{
 "cells": [
  {
   "cell_type": "code",
   "execution_count": 3,
   "metadata": {},
   "outputs": [],
   "source": [
    "import os \n",
    "from pyMFI import MFI\n",
    "import scipy\n",
    "from pyMFI import MFI1D\n",
    "from pyMFI import run_plumed\n",
    "\n",
    "import numpy as np\n",
    "import pickle\n",
    "import matplotlib.pyplot as plt"
   ]
  },
  {
   "cell_type": "markdown",
   "metadata": {},
   "source": [
    "## Run WT-MetaD simulation"
   ]
  },
  {
   "cell_type": "code",
   "execution_count": 6,
   "metadata": {},
   "outputs": [
    {
     "name": "stdout",
     "output_type": "stream",
     "text": [
      "/home/antoniu/Desktop/MFI_git/MFI/1D_double_well\n",
      "done\n"
     ]
    }
   ],
   "source": [
    "os.chdir(\"/home/antoniu/Desktop/MFI_git/MFI/1D_double_well\")\n",
    "\n",
    "\n",
    "#Run simulation\n",
    "run_plumed.run_langevin1D(100000, analytical_function = \"7*x^4-23*x^2\", gaus_width=0.1, gaus_height=1, biasfactor=10, gaus_pace=100)\n",
    "\n",
    "# print(\"code:\", str(proc.returncode))\n",
    "\n",
    "print(os.getcwd())\n",
    "print(\"done\")"
   ]
  },
  {
   "cell_type": "markdown",
   "metadata": {},
   "source": [
    "## Analyse with MFI"
   ]
  },
  {
   "cell_type": "code",
   "execution_count": null,
   "metadata": {},
   "outputs": [],
   "source": [
    "#Read the HILLS file\n",
    "HILLS=MFI1D.load_HILLS(hills_name=\"HILLS\")\n",
    "\n",
    "#Read the Colvar File\n",
    "position = MFI1D.load_position(position_name=\"position\")\n",
    "\n",
    "#Compute the time-independent mean force\n",
    "[X, Ftot_den, Ftot, ofe_map, ofe_history] = MFI1D.MFI_1D(HILLS = HILLS, position = position, bw = 0.1, kT = 1, min_grid=2, \n",
    "                                                         max_grid=2, nbins=200, log_pace=10, error_pace=200, WellTempered=0)\n",
    "\n",
    "\n",
    "# Integrate Ftot, obtain FES \n",
    "FES = MFI1D.intg_1D(X,Ftot)\n",
    "\n",
    "# Plot Recap\n",
    "lim=40\n",
    "fig, axs = plt.subplots(2, 2, figsize=(12, 8))\n",
    "\n",
    "axs[0, 0].plot(X, FES);\n",
    "axs[0, 0].set_ylim([0, lim])\n",
    "axs[0, 0].set_ylabel('F(CV1)')\n",
    "axs[0, 0].set_xlabel('CV1 [nm]')\n",
    "axs[0, 0].set_title('Free Energy Surface')\n",
    "\n",
    "axs[0, 1].plot(X, ofe_map);\n",
    "axs[0, 1].set_ylabel('Mean Force Error')\n",
    "axs[0, 1].set_xlabel('CV1')\n",
    "\n",
    "axs[1, 0].plot(X, Ftot_den);\n",
    "axs[1, 0].set_ylabel('Count')\n",
    "axs[1, 0].set_xlabel('CV1')\n",
    "\n",
    "axs[1, 1].plot(range(len(ofe_history)), ofe_history);\n",
    "axs[1, 1].set_ylabel('Average Mean Force Error')\n",
    "axs[1, 1].set_xlabel('Number of Error Evaluations')"
   ]
  },
  {
   "cell_type": "markdown",
   "metadata": {},
   "source": [
    "## Analyse with sum_hills"
   ]
  },
  {
   "cell_type": "code",
   "execution_count": null,
   "metadata": {},
   "outputs": [],
   "source": []
  },
  {
   "cell_type": "markdown",
   "metadata": {},
   "source": [
    "## Run (non-WT) MetaD simulation"
   ]
  },
  {
   "cell_type": "code",
   "execution_count": null,
   "metadata": {},
   "outputs": [],
   "source": []
  },
  {
   "cell_type": "markdown",
   "metadata": {},
   "source": [
    "## Analyse with sum_hills"
   ]
  },
  {
   "cell_type": "code",
   "execution_count": null,
   "metadata": {},
   "outputs": [],
   "source": []
  },
  {
   "cell_type": "markdown",
   "metadata": {},
   "source": [
    "## Plot all"
   ]
  }
 ],
 "metadata": {
  "interpreter": {
   "hash": "03ae04260e478434a99f6a85d47b9294450c44a76b572c3ffee886dfa13495b2"
  },
  "kernelspec": {
   "display_name": "Python 3.8.5 ('base')",
   "language": "python",
   "name": "python3"
  },
  "language_info": {
   "codemirror_mode": {
    "name": "ipython",
    "version": 3
   },
   "file_extension": ".py",
   "mimetype": "text/x-python",
   "name": "python",
   "nbconvert_exporter": "python",
   "pygments_lexer": "ipython3",
   "version": "3.6.8"
  },
  "orig_nbformat": 4
 },
 "nbformat": 4,
 "nbformat_minor": 2
}
