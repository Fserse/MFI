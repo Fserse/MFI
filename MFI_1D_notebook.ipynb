{
 "cells": [
  {
   "cell_type": "markdown",
   "metadata": {},
   "source": [
    "# Mean Force Integration in 1D\n",
    "\n",
    "Import HILLS and COLVAR files, compute the mean force and integrate using the pyMFI (would be) module. "
   ]
  },
  {
   "cell_type": "code",
   "execution_count": 3,
   "id": "96e67951",
   "metadata": {},
   "outputs": [
    {
     "ename": "ZeroDivisionError",
     "evalue": "integer division or modulo by zero",
     "output_type": "error",
     "traceback": [
      "\u001b[0;31m---------------------------------------------------------------------------\u001b[0m",
      "\u001b[0;31mZeroDivisionError\u001b[0m                         Traceback (most recent call last)",
      "\u001b[1;32m/Users/matteo/Projects/MFI/MFI_1D_notebook.ipynb Cell 2'\u001b[0m in \u001b[0;36m<cell line: 12>\u001b[0;34m()\u001b[0m\n\u001b[1;32m      <a href='vscode-notebook-cell:/Users/matteo/Projects/MFI/MFI_1D_notebook.ipynb#ch0000001?line=8'>9</a>\u001b[0m position \u001b[39m=\u001b[39m MFI1D\u001b[39m.\u001b[39mload_position(position_name\u001b[39m=\u001b[39m\u001b[39m\"\u001b[39m\u001b[39mposition\u001b[39m\u001b[39m\"\u001b[39m)\n\u001b[1;32m     <a href='vscode-notebook-cell:/Users/matteo/Projects/MFI/MFI_1D_notebook.ipynb#ch0000001?line=10'>11</a>\u001b[0m \u001b[39m#Compute the time-independent mean force\u001b[39;00m\n\u001b[0;32m---> <a href='vscode-notebook-cell:/Users/matteo/Projects/MFI/MFI_1D_notebook.ipynb#ch0000001?line=11'>12</a>\u001b[0m [X, Ftot_den, Ftot, ofe_map, ofe_history] \u001b[39m=\u001b[39m MFI1D\u001b[39m.\u001b[39;49mMFI_1D(HILLS \u001b[39m=\u001b[39;49m HILLS, position \u001b[39m=\u001b[39;49m position, bw \u001b[39m=\u001b[39;49m \u001b[39m0.1\u001b[39;49m, kT \u001b[39m=\u001b[39;49m \u001b[39m1\u001b[39;49m, log_pace \u001b[39m=\u001b[39;49m \u001b[39m1\u001b[39;49m, error_pace \u001b[39m=\u001b[39;49m \u001b[39m200\u001b[39;49m, min_grid\u001b[39m=\u001b[39;49m\u001b[39m-\u001b[39;49m\u001b[39m2.5\u001b[39;49m, max_grid\u001b[39m=\u001b[39;49m\u001b[39m2.5\u001b[39;49m, WellTempered\u001b[39m=\u001b[39;49m\u001b[39m0\u001b[39;49m)\n\u001b[1;32m     <a href='vscode-notebook-cell:/Users/matteo/Projects/MFI/MFI_1D_notebook.ipynb#ch0000001?line=13'>14</a>\u001b[0m \u001b[39m# Integrate Ftot, obtain FES \u001b[39;00m\n\u001b[1;32m     <a href='vscode-notebook-cell:/Users/matteo/Projects/MFI/MFI_1D_notebook.ipynb#ch0000001?line=14'>15</a>\u001b[0m FES \u001b[39m=\u001b[39m MFI1D\u001b[39m.\u001b[39mintg_1D(X,Ftot)\n",
      "File \u001b[0;32m~/Projects/MFI/pyMFI/MFI1D.py:77\u001b[0m, in \u001b[0;36mMFI_1D\u001b[0;34m(HILLS, position, bw, kT, min_grid, max_grid, nbins, log_pace, error_pace, WellTempered)\u001b[0m\n\u001b[1;32m     <a href='file:///Users/matteo/Projects/MFI/pyMFI/MFI1D.py?line=73'>74</a>\u001b[0m ofv \u001b[39m=\u001b[39m ofv \u001b[39m+\u001b[39m pb_t \u001b[39m*\u001b[39m (dfds \u001b[39m*\u001b[39m\u001b[39m*\u001b[39m \u001b[39m2\u001b[39m)   \u001b[39m#sum of (weighted mean force of window)^2\u001b[39;00m\n\u001b[1;32m     <a href='file:///Users/matteo/Projects/MFI/pyMFI/MFI1D.py?line=75'>76</a>\u001b[0m \u001b[39m#Calculate error\u001b[39;00m\n\u001b[0;32m---> <a href='file:///Users/matteo/Projects/MFI/pyMFI/MFI1D.py?line=76'>77</a>\u001b[0m \u001b[39mif\u001b[39;00m (i \u001b[39m+\u001b[39;49m \u001b[39m1\u001b[39;49m) \u001b[39m%\u001b[39;49m \u001b[39mint\u001b[39;49m(total_number_of_hills \u001b[39m/\u001b[39;49m error_pace) \u001b[39m==\u001b[39m \u001b[39m0\u001b[39m:\n\u001b[1;32m     <a href='file:///Users/matteo/Projects/MFI/pyMFI/MFI1D.py?line=77'>78</a>\u001b[0m     \u001b[39m#ofe \u001b[39;00m\n\u001b[1;32m     <a href='file:///Users/matteo/Projects/MFI/pyMFI/MFI1D.py?line=78'>79</a>\u001b[0m     Ftot_den_ratio \u001b[39m=\u001b[39m np\u001b[39m.\u001b[39mdivide(Ftot_den2, (Ftot_den \u001b[39m*\u001b[39m\u001b[39m*\u001b[39m \u001b[39m2\u001b[39m \u001b[39m-\u001b[39m Ftot_den2), out\u001b[39m=\u001b[39mnp\u001b[39m.\u001b[39mzeros_like(Ftot_den), where\u001b[39m=\u001b[39mFtot_den \u001b[39m>\u001b[39m \u001b[39m1E-10\u001b[39m)\n\u001b[1;32m     <a href='file:///Users/matteo/Projects/MFI/pyMFI/MFI1D.py?line=79'>80</a>\u001b[0m     ofe \u001b[39m=\u001b[39m np\u001b[39m.\u001b[39mdivide(ofv, Ftot_den, out\u001b[39m=\u001b[39mnp\u001b[39m.\u001b[39mzeros_like(ofv), where\u001b[39m=\u001b[39mFtot_den \u001b[39m>\u001b[39m \u001b[39m1E-10\u001b[39m) \u001b[39m-\u001b[39m Ftot \u001b[39m*\u001b[39m\u001b[39m*\u001b[39m \u001b[39m2\u001b[39m\n",
      "\u001b[0;31mZeroDivisionError\u001b[0m: integer division or modulo by zero"
     ]
    }
   ],
   "source": [
    "import numpy as np\n",
    "import matplotlib.pyplot as plt\n",
    "from pyMFI import MFI1D\n",
    "\n",
    "#Read the HILLS file\n",
    "HILLS=MFI1D.load_HILLS(hills_name=\"HILLS\")\n",
    "\n",
    "#Read the Colvar File\n",
    "position = MFI1D.load_position(position_name=\"position\")\n",
    "\n",
    "#Compute the time-independent mean force\n",
    "[X, Ftot_den, Ftot, ofe_map, ofe_history] = MFI1D.MFI_1D(HILLS = HILLS, position = position, bw = 0.1, kT = 1, log_pace = 1, error_pace = 200, min_grid=-2.5, max_grid=2.5, WellTempered=0)\n",
    "\n",
    "# Integrate Ftot, obtain FES \n",
    "FES = MFI1D.intg_1D(X,Ftot)\n",
    "\n",
    "# Plot Recap\n",
    "MFI1D.plot_recap(X, FES, Ftot_den, ofe_map, ofe_history,lim=10)"
   ]
  },
  {
   "cell_type": "code",
   "execution_count": null,
   "id": "c3416f83",
   "metadata": {},
   "outputs": [],
   "source": []
  },
  {
   "cell_type": "code",
   "execution_count": null,
   "id": "395d592c",
   "metadata": {},
   "outputs": [],
   "source": []
  }
 ],
 "metadata": {
  "kernelspec": {
   "display_name": "Python 3",
   "language": "python",
   "name": "python3"
  },
  "language_info": {
   "codemirror_mode": {
    "name": "ipython",
    "version": 3
   },
   "file_extension": ".py",
   "mimetype": "text/x-python",
   "name": "python",
   "nbconvert_exporter": "python",
   "pygments_lexer": "ipython3",
   "version": "3.9.5"
  }
 },
 "nbformat": 4,
 "nbformat_minor": 5
}
